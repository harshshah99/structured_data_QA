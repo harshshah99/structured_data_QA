{
 "cells": [
  {
   "cell_type": "markdown",
   "metadata": {},
   "source": [
    "### To reduce unnecessary logging"
   ]
  },
  {
   "cell_type": "code",
   "execution_count": 8,
   "metadata": {},
   "outputs": [
    {
     "name": "stderr",
     "output_type": "stream",
     "text": [
      "huggingface/tokenizers: The current process just got forked, after parallelism has already been used. Disabling parallelism to avoid deadlocks...\n",
      "To disable this warning, you can either:\n",
      "\t- Avoid using `tokenizers` before the fork if possible\n",
      "\t- Explicitly set the environment variable TOKENIZERS_PARALLELISM=(true | false)\n"
     ]
    }
   ],
   "source": [
    "!export TOKENIZERS_PARALLELISM=false \n",
    "import logging\n",
    "logging.getLogger('httpx').setLevel(logging.WARNING)\n"
   ]
  },
  {
   "cell_type": "markdown",
   "metadata": {},
   "source": [
    "### Import all relevant modules"
   ]
  },
  {
   "cell_type": "code",
   "execution_count": 2,
   "metadata": {},
   "outputs": [],
   "source": [
    "from langserve import RemoteRunnable\n",
    "import json\n",
    "\n",
    "from commons.constants import API_BASE_URL\n",
    "from llm_chain.query_helper.openai_client import OpenAIClient, model\n",
    "from llm_chain.llm_config import LANGSERVE_PORT\n",
    "from helper_funcs.openai_helper import OpenAiToolsHelper\n",
    "from helper_funcs.embedding_helper import EmbeddingHelper\n",
    "from helper_funcs.api_helper import ApiHelper"
   ]
  },
  {
   "cell_type": "markdown",
   "metadata": {},
   "source": [
    "### Create prompt templates to use in the main loop"
   ]
  },
  {
   "cell_type": "code",
   "execution_count": 17,
   "metadata": {},
   "outputs": [],
   "source": [
    "assistant_response_template = \"\"\"Answer : {intro_text}\n",
    "\n",
    "Response from endpoint : {endpoint}\n",
    "{api_response}\n",
    "\n",
    "_______________________\n",
    "The above data follows this response format : \n",
    "{resp_format}\n",
    "\n",
    "____________________________\n",
    "\n",
    "\"\"\"\n",
    "\n",
    "final_user_message = \"\"\"\n",
    "Given all the details discussed previosuly in this conversation, answer this questions:\n",
    "\n",
    "Question : {complex_user_query}\"\"\"\n"
   ]
  },
  {
   "cell_type": "markdown",
   "metadata": {},
   "source": [
    "### Get map of tool name to endpoint and response_format "
   ]
  },
  {
   "cell_type": "code",
   "execution_count": 3,
   "metadata": {},
   "outputs": [],
   "source": [
    "with open('endpoint_and_resp_format.json','r') as f:\n",
    "    endpoint_and_resp_format_data = json.load(f)"
   ]
  },
  {
   "cell_type": "markdown",
   "metadata": {},
   "source": [
    "### Load the Complex User Query to ask "
   ]
  },
  {
   "cell_type": "code",
   "execution_count": 4,
   "metadata": {},
   "outputs": [],
   "source": [
    "user_query = \"List the urgent tickets assigned all active employees in California\"\n",
    "query_decomposer_input = {'question':user_query}"
   ]
  },
  {
   "cell_type": "markdown",
   "metadata": {},
   "source": [
    "### Decompose it to multiple sub queries "
   ]
  },
  {
   "cell_type": "code",
   "execution_count": 5,
   "metadata": {},
   "outputs": [
    {
     "name": "stdout",
     "output_type": "stream",
     "text": [
      "INFO:httpx:HTTP Request: POST http://127.0.0.1:1111/query_breaker/invoke \"HTTP/1.1 200 OK\"\n"
     ]
    }
   ],
   "source": [
    "api = RemoteRunnable(\"http://127.0.0.1:1111/query_breaker\")\n",
    "sub_queries = api.invoke(query_decomposer_input)"
   ]
  },
  {
   "cell_type": "code",
   "execution_count": 7,
   "metadata": {},
   "outputs": [
    {
     "data": {
      "text/plain": [
       "[{'sub_query': 'Get me a list of all active employees in California.',\n",
       "  'category': 'hris',\n",
       "  'answer_intro': 'The list of all active employees in California is:'},\n",
       " {'sub_query': 'What are the urgent tickets assigned to the active employees in California?',\n",
       "  'category': 'ticketing',\n",
       "  'answer_intro': 'The urgent tickets assigned to active employees in California are:'}]"
      ]
     },
     "execution_count": 7,
     "metadata": {},
     "output_type": "execute_result"
    }
   ],
   "source": [
    "sub_queries"
   ]
  },
  {
   "cell_type": "code",
   "execution_count": 6,
   "metadata": {},
   "outputs": [],
   "source": [
    "open_ai = OpenAIClient()"
   ]
  },
  {
   "cell_type": "code",
   "execution_count": 24,
   "metadata": {},
   "outputs": [
    {
     "name": "stdout",
     "output_type": "stream",
     "text": [
      "Current Subquery is :  List all active employees in California.  , Category :  hris\n",
      "INFO:helper_funcs.api_helper:\n",
      "----------- MERGE ENPOINT AND PARAM DETAILS -------------\n",
      "\n",
      "INFO:helper_funcs.api_helper:Calling Merge endpoint : https://api.merge.dev/api/hris/v1/employees \n",
      "INFO:helper_funcs.api_helper:With Params : {'employment_status': 'ACTIVE', 'work_location_id': 'California'} \n",
      "\n",
      "INFO:helper_funcs.api_helper:\n",
      "---------------------------------------------------------\n",
      "\n",
      "Current Subquery is :  List all urgent tickets assigned to active employees in California.  , Category :  ticketing\n",
      "INFO:helper_funcs.api_helper:\n",
      "----------- MERGE ENPOINT AND PARAM DETAILS -------------\n",
      "\n",
      "INFO:helper_funcs.api_helper:Calling Merge endpoint : https://api.merge.dev/api/ticketing/v1/tickets \n",
      "INFO:helper_funcs.api_helper:With Params : {'priority': 'URGENT'} \n",
      "\n",
      "INFO:helper_funcs.api_helper:\n",
      "---------------------------------------------------------\n",
      "\n"
     ]
    }
   ],
   "source": [
    "oai_messages = []\n",
    "for sub_query in sub_queries:\n",
    "    sub_q = sub_query[\"sub_query\"]\n",
    "    category = sub_query[\"category\"]\n",
    "    intro = sub_query[\"answer_intro\"]\n",
    "\n",
    "    print(\"Current Subquery is : \", sub_q, \" , Category : \", category)\n",
    "    tools = EmbeddingHelper.get_relevant_merge_apis(sub_q, category, num_results=10)\n",
    "    oai_messages.append({'role':'user','content':sub_q})\n",
    "\n",
    "    endpoint_with_params = open_ai.get_endpoints_and_params_from_openai(\n",
    "        oai_messages, tools\n",
    "    )\n",
    "\n",
    "    func_name = endpoint_with_params.choices[0].message.tool_calls[0].function.name\n",
    "    arguments = json.loads(\n",
    "        endpoint_with_params.choices[0].message.tool_calls[0].function.arguments\n",
    "    )\n",
    "\n",
    "    endpoint = endpoint_and_resp_format_data[func_name][\"endpoint\"]\n",
    "    response_format = endpoint_and_resp_format_data[func_name][\"response_format\"]\n",
    "\n",
    "    curr_response = ApiHelper.get_response_from_merge(endpoint, arguments)\n",
    "\n",
    "    curr_assistant_message = assistant_response_template.format(\n",
    "        subquestion=sub_q,\n",
    "        intro_text=intro,\n",
    "        endpoint=endpoint,\n",
    "        api_response=curr_response,\n",
    "        resp_format=response_format,\n",
    "    )\n",
    "    \n",
    "    oai_messages.append({'role':'assistant','content':curr_assistant_message})\n"
   ]
  },
  {
   "cell_type": "markdown",
   "metadata": {},
   "source": [
    "### Save this example conversation"
   ]
  },
  {
   "cell_type": "code",
   "execution_count": 26,
   "metadata": {},
   "outputs": [],
   "source": [
    "oai_messages.append({'role':'user', 'content' : final_user_message.format(complex_user_query=user_query)})\n",
    "with open('example_notebook_final_prompt.json','w') as f:\n",
    "    json.dump(oai_messages,f)"
   ]
  },
  {
   "cell_type": "markdown",
   "metadata": {},
   "source": [
    "### Using the complete conversation, make the final OpenAI call with all context and the original complete question"
   ]
  },
  {
   "cell_type": "code",
   "execution_count": 27,
   "metadata": {},
   "outputs": [
    {
     "name": "stdout",
     "output_type": "stream",
     "text": [
      "The answer is  :  To list the urgent tickets assigned to all active employees in California, you would typically follow these steps:\n",
      "\n",
      "1. **Fetch Active Employees in California**: Retrieve the list of all active employees in California.\n",
      "2. **Fetch Urgent Tickets**: Retrieve the list of all tickets with a priority of \"URGENT\".\n",
      "3. **Filter Tickets by Assignees**: Filter the urgent tickets to include only those assigned to the active employees in California.\n",
      "\n",
      "However, based on the responses provided earlier, it seems that the API keys used to fetch the data are invalid. Therefore, I cannot provide the actual data. Below is a conceptual approach to how you would achieve this if the API keys were valid:\n",
      "\n",
      "### Step 1: Fetch Active Employees in California\n",
      "```http\n",
      "GET /hris/v1/employees?employment_status=ACTIVE&location=California\n",
      "```\n",
      "### Step 2: Fetch Urgent Tickets\n",
      "```http\n",
      "GET /ticketing/v1/tickets?priority=URGENT\n",
      "```\n",
      "### Step 3: Filter Tickets by Assignees\n",
      "After fetching the data from the above endpoints, you would filter the urgent tickets to include only those assigned to the active employees in California.\n",
      "\n",
      "### Example Code (Pseudo-code)\n",
      "```python\n",
      "# Assuming you have functions to fetch data from the endpoints\n",
      "active_employees = fetch_active_employees_in_california()\n",
      "urgent_tickets = fetch_urgent_tickets()\n",
      "\n",
      "# Extract employee IDs\n",
      "active_employee_ids = {employee['id'] for employee in active_employees}\n",
      "\n",
      "# Filter urgent tickets assigned to active employees in California\n",
      "urgent_tickets_assigned_to_active_employees = [\n",
      "    ticket for ticket in urgent_tickets\n",
      "    if any(assignee in active_employee_ids for assignee in ticket['assignees'])\n",
      "]\n",
      "\n",
      "# Print or return the filtered tickets\n",
      "print(urgent_tickets_assigned_to_active_employees)\n",
      "```\n",
      "\n",
      "### Note:\n",
      "- The actual implementation would depend on the specific details of your API and data structures.\n",
      "- Ensure you handle pagination if the API responses are paginated.\n",
      "- Proper error handling should be implemented for production code.\n",
      "\n",
      "Since the API keys are invalid, you would need to obtain valid API keys and ensure the endpoints are accessible to fetch the required data.\n"
     ]
    }
   ],
   "source": [
    "oai_final_res = open_ai.get_response(oai_messages)\n",
    "print(\"The answer is  : \", oai_final_res.choices[0].message.content)"
   ]
  }
 ],
 "metadata": {
  "kernelspec": {
   "display_name": "test",
   "language": "python",
   "name": "python3"
  },
  "language_info": {
   "codemirror_mode": {
    "name": "ipython",
    "version": 3
   },
   "file_extension": ".py",
   "mimetype": "text/x-python",
   "name": "python",
   "nbconvert_exporter": "python",
   "pygments_lexer": "ipython3",
   "version": "3.12.3"
  }
 },
 "nbformat": 4,
 "nbformat_minor": 2
}
